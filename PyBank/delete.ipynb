{
 "cells": [
  {
   "cell_type": "code",
   "execution_count": 110,
   "metadata": {},
   "outputs": [],
   "source": [
    "# First, initialize a dictionary using the financial dataset provided.\n",
    "\n",
    "trading_pnl = {\n",
    "    \"Jan-2010\": 867884,\n",
    "    \"Feb-2010\": 984655,\n",
    "    \"Mar-2010\": 322013,\n",
    "    \"Apr-2010\": -69417,\n",
    "    \"May-2010\": 310503,\n",
    "    \"Jun-2010\": 522857,\n",
    "    \"Jul-2010\": 1033096,\n",
    "    \"Aug-2010\": 604885,\n",
    "    \"Sep-2010\": -216386,\n",
    "    \"Oct-2010\": 477532,\n",
    "    \"Nov-2010\": 893810,\n",
    "    \"Dec-2010\": -80353,\n",
    "    \"Jan-2011\": 779806,\n",
    "    \"Feb-2011\": -335203,\n",
    "    \"Mar-2011\": 697845,\n",
    "    \"Apr-2011\": 793163,\n",
    "    \"May-2011\": 485070,\n",
    "    \"Jun-2011\": 584122,\n",
    "    \"Jul-2011\": 62729,\n",
    "    \"Aug-2011\": 668179,\n",
    "    \"Sep-2011\": 899906,\n",
    "    \"Oct-2011\": 834719,\n",
    "    \"Nov-2011\": 132003,\n",
    "    \"Dec-2011\": 309978,\n",
    "    \"Jan-2012\": -755566,\n",
    "    \"Feb-2012\": 1170593,\n",
    "    \"Mar-2012\": 252788,\n",
    "    \"Apr-2012\": 1151518,\n",
    "    \"May-2012\": 817256,\n",
    "    \"Jun-2012\": 570757,\n",
    "    \"Jul-2012\": 506702,\n",
    "    \"Aug-2012\": -1022534,\n",
    "    \"Sep-2012\": 475062,\n",
    "    \"Oct-2012\": 779976,\n",
    "    \"Nov-2012\": 144175,\n",
    "    \"Dec-2012\": 542494,\n",
    "    \"Jan-2013\": 359333,\n",
    "    \"Feb-2013\": 321469,\n",
    "    \"Mar-2013\": 67780,\n",
    "    \"Apr-2013\": 471435,\n",
    "    \"May-2013\": 565603,\n",
    "    \"Jun-2013\": 872480,\n",
    "    \"Jul-2013\": 789480,\n",
    "    \"Aug-2013\": 999942,\n",
    "    \"Sep-2013\": -1196225,\n",
    "    \"Oct-2013\": 268997,\n",
    "    \"Nov-2013\": -687986,\n",
    "    \"Dec-2013\": 1150461,\n",
    "    \"Jan-2014\": 682458,\n",
    "    \"Feb-2014\": 617856,\n",
    "    \"Mar-2014\": 824098,\n",
    "    \"Apr-2014\": 581943,\n",
    "    \"May-2014\": 132864,\n",
    "    \"Jun-2014\": 448062,\n",
    "    \"Jul-2014\": 689161,\n",
    "    \"Aug-2014\": 800701,\n",
    "    \"Sep-2014\": 1166643,\n",
    "    \"Oct-2014\": 947333,\n",
    "    \"Nov-2014\": 578668,\n",
    "    \"Dec-2014\": 988505,\n",
    "    \"Jan-2015\": 1139715,\n",
    "    \"Feb-2015\": 1029471,\n",
    "    \"Mar-2015\": 687533,\n",
    "    \"Apr-2015\": -524626,\n",
    "    \"May-2015\": 158620,\n",
    "    \"Jun-2015\": 87795,\n",
    "    \"Jul-2015\": 423389,\n",
    "    \"Aug-2015\": 840723,\n",
    "    \"Sep-2015\": 568529,\n",
    "    \"Oct-2015\": 332067,\n",
    "    \"Nov-2015\": 989499,\n",
    "    \"Dec-2015\": 778237,\n",
    "    \"Jan-2016\": 650000,\n",
    "    \"Feb-2016\": -1100387,\n",
    "    \"Mar-2016\": -174946,\n",
    "    \"Apr-2016\": 757143,\n",
    "    \"May-2016\": 445709,\n",
    "    \"Jun-2016\": 712961,\n",
    "    \"Jul-2016\": -1163797,\n",
    "    \"Aug-2016\": 569899,\n",
    "    \"Sep-2016\": 768450,\n",
    "    \"Oct-2016\": 102685,\n",
    "    \"Nov-2016\": 795914,\n",
    "    \"Dec-2016\": 60988,\n",
    "    \"Jan-2017\": 138230,\n",
    "    \"Feb-2017\": 671099\n",
    "}"
   ]
  },
  {
   "cell_type": "code",
   "execution_count": 143,
   "metadata": {},
   "outputs": [
    {
     "name": "stdout",
     "output_type": "stream",
     "text": [
      "86\n"
     ]
    }
   ],
   "source": [
    "# Calculate the total number of months included in the dataset.\n",
    "\n",
    "# First, initialize metric variable.\n",
    "\n",
    "total_months = 0\n",
    "\n",
    "# Second, iterate over the key-value pairs in the trading_pnl dictionary.\n",
    "\n",
    "for date, profits in trading_pnl.items():\n",
    "    total_months += 1\n",
    "    \n",
    "print(total_months)"
   ]
  },
  {
   "cell_type": "code",
   "execution_count": 136,
   "metadata": {},
   "outputs": [
    {
     "name": "stdout",
     "output_type": "stream",
     "text": [
      "38382578\n"
     ]
    }
   ],
   "source": [
    "# Calculate the net total amount of Profit/Losses over the entire period.\n",
    "\n",
    "# First, initialize metric variable.\n",
    "\n",
    "net_total_profits = 0\n",
    "\n",
    "# Second, iterate over the key-value pairs in the trading_pnl dictionary.\n",
    "\n",
    "for date, profits in trading_pnl.items():\n",
    "    net_total_profits += int(profits)\n",
    "    \n",
    "print(net_total_profits)"
   ]
  },
  {
   "cell_type": "code",
   "execution_count": 142,
   "metadata": {},
   "outputs": [
    {
     "name": "stdout",
     "output_type": "stream",
     "text": [
      "446309.05\n"
     ]
    }
   ],
   "source": [
    "# Calculate the average of the changes in Profit/Losses over the entire period.\n",
    "\n",
    "# First, initialize metric variables\n",
    "average = 0\n",
    "\n",
    "for date, profits in trading_pnl.items():\n",
    "    avg_change = round(net_total_profits / total_months, 2)\n",
    "\n",
    "print(avg_change)"
   ]
  },
  {
   "cell_type": "code",
   "execution_count": 21,
   "metadata": {},
   "outputs": [],
   "source": [
    "# Calculate the greatest increase in profits (date and amount) over the entire period.\n",
    "\n",
    "# Here"
   ]
  },
  {
   "cell_type": "code",
   "execution_count": 22,
   "metadata": {},
   "outputs": [],
   "source": [
    "# Calculate the greatest decrease in losses (date and amount) over the entire period."
   ]
  },
  {
   "cell_type": "code",
   "execution_count": null,
   "metadata": {},
   "outputs": [],
   "source": []
  }
 ],
 "metadata": {
  "kernelspec": {
   "display_name": "Python 3",
   "language": "python",
   "name": "python3"
  },
  "language_info": {
   "codemirror_mode": {
    "name": "ipython",
    "version": 3
   },
   "file_extension": ".py",
   "mimetype": "text/x-python",
   "name": "python",
   "nbconvert_exporter": "python",
   "pygments_lexer": "ipython3",
   "version": "3.8.3"
  }
 },
 "nbformat": 4,
 "nbformat_minor": 4
}
