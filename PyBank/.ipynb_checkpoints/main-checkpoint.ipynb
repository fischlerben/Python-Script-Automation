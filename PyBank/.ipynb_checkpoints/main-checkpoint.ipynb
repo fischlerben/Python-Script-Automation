{
 "cells": [
  {
   "cell_type": "code",
   "execution_count": 79,
   "metadata": {},
   "outputs": [],
   "source": [
    "# Import the pathlib and csv library\n",
    "from pathlib import Path\n",
    "import csv"
   ]
  },
  {
   "cell_type": "code",
   "execution_count": 80,
   "metadata": {},
   "outputs": [],
   "source": [
    "# Set the file path\n",
    "csvpath = Path('../PyBank/Resources/budget_data.csv')"
   ]
  },
  {
   "cell_type": "code",
   "execution_count": 81,
   "metadata": {},
   "outputs": [],
   "source": [
    "# Initialize Empty Lists for Iteration\n",
    "total_months = []\n",
    "total_profits_losses = []\n",
    "avg_monthly_profit_change = []"
   ]
  },
  {
   "cell_type": "code",
   "execution_count": 82,
   "metadata": {},
   "outputs": [],
   "source": [
    "# Open the input path as a file object\n",
    "with open(csvpath, \"r\") as csvfile:\n",
    "    \n",
    "    # Store the contents of HW2Data.csv in the variable 'csvreader'\n",
    "    csvreader = csv.reader(csvfile, delimiter=',')\n",
    "    \n",
    "    # Skip the header row of the dataset\n",
    "    header = next(csvreader)\n",
    "    \n",
    "    # Iterate through each row of data after the header\n",
    "    for row in csvreader:\n",
    "        \n",
    "        # Append total months and total profit to their corresponding lists\n",
    "        total_months.append(row[0])\n",
    "        total_profits_losses.append(int(row[1]))\n",
    "        \n",
    "    # Iterate through the [total_profits_losses] list in order to calculate average change in profits/losses\n",
    "    for x in range(len(total_profits_losses)-1):\n",
    "        \n",
    "        # Calculate difference between two months and append to [avg_monthly_profit_change] list\n",
    "        avg_monthly_profit_change.append(total_profits_losses[x+1]-total_profits_losses[x])"
   ]
  },
  {
   "cell_type": "code",
   "execution_count": 83,
   "metadata": {},
   "outputs": [],
   "source": [
    "# Obtain max increase/decrease in [avg_monthly_profit_change] list\n",
    "max_increase = max(avg_monthly_profit_change)\n",
    "max_decrease = min(avg_monthly_profit_change)"
   ]
  },
  {
   "cell_type": "code",
   "execution_count": 84,
   "metadata": {},
   "outputs": [],
   "source": [
    "# Correlate max/min to the proper month using [total_months] list and index from max/min\n",
    "# \"+ 1\" used at end to indicate month associated with change is the following month\n",
    "max_increase_month = avg_monthly_profit_change.index(max(avg_monthly_profit_change)) + 1\n",
    "max_decrease_month = avg_monthly_profit_change.index(min(avg_monthly_profit_change)) + 1"
   ]
  },
  {
   "cell_type": "code",
   "execution_count": 85,
   "metadata": {},
   "outputs": [
    {
     "name": "stdout",
     "output_type": "stream",
     "text": [
      "Financial Analysis\n",
      "----------------------------\n",
      "Total Months: 86\n",
      "Total: $38382578\n",
      "Average Change: -2315.12\n",
      "Greatest Increase in Profits: Feb-2012 ($1926159)\n",
      "Greatest Decrease in Profits: Sep-2013 ($-2196167)\n"
     ]
    }
   ],
   "source": [
    "# Concluding Financial Analysis\n",
    "print(\"Financial Analysis\")\n",
    "print(\"----------------------------\")\n",
    "print(f\"Total Months: {len(total_months)}\")\n",
    "print(f\"Total: ${sum(total_profits_losses)}\")\n",
    "print(f\"Average Change: {round(sum(avg_monthly_profit_change)/len(avg_monthly_profit_change),2)}\")\n",
    "print(f\"Greatest Increase in Profits: {total_months[max_increase_month]} (${(str(max_increase))})\")\n",
    "print(f\"Greatest Decrease in Profits: {total_months[max_decrease_month]} (${(str(max_decrease))})\")"
   ]
  },
  {
   "cell_type": "code",
   "execution_count": 86,
   "metadata": {},
   "outputs": [],
   "source": [
    "# Set the output file path\n",
    "output_path = Path('../PyBank/Financial_Analysis_Summary.txt')\n",
    "\n",
    "# Open the output path as a file object\n",
    "with open(output_path, 'w') as file:\n",
    "    \n",
    "    # Write methods to print to Financial_Analysis_Summary\n",
    "    file.write(\"Financial Analysis\")\n",
    "    file.write(\"\\n\")\n",
    "    file.write(\"----------------------------\")\n",
    "    file.write(\"\\n\")\n",
    "    file.write(f\"Total Months: {len(total_months)}\")\n",
    "    file.write(\"\\n\")\n",
    "    file.write(f\"Total: ${sum(total_profits_losses)}\")\n",
    "    file.write(\"\\n\")\n",
    "    file.write(f\"Average Change: {round(sum(avg_monthly_profit_change)/len(avg_monthly_profit_change),2)}\")\n",
    "    file.write(\"\\n\")\n",
    "    file.write(f\"Greatest Increase in Profits: {total_months[max_increase_month]} (${(str(max_increase))})\")\n",
    "    file.write(\"\\n\")\n",
    "    file.write(f\"Greatest Decrease in Profits: {total_months[max_decrease_month]} (${(str(max_decrease))})\")"
   ]
  }
 ],
 "metadata": {
  "kernelspec": {
   "display_name": "Python 3",
   "language": "python",
   "name": "python3"
  },
  "language_info": {
   "codemirror_mode": {
    "name": "ipython",
    "version": 3
   },
   "file_extension": ".py",
   "mimetype": "text/x-python",
   "name": "python",
   "nbconvert_exporter": "python",
   "pygments_lexer": "ipython3",
   "version": "3.8.3"
  }
 },
 "nbformat": 4,
 "nbformat_minor": 4
}
